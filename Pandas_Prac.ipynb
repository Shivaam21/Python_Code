{
 "cells": [
  {
   "cell_type": "code",
   "execution_count": 2,
   "id": "c8474772",
   "metadata": {},
   "outputs": [],
   "source": [
    "import pandas as pd"
   ]
  },
  {
   "cell_type": "code",
   "execution_count": 3,
   "id": "f6e3142c",
   "metadata": {},
   "outputs": [],
   "source": [
    "import numpy as np"
   ]
  },
  {
   "cell_type": "code",
   "execution_count": 52,
   "id": "a76161c3",
   "metadata": {},
   "outputs": [],
   "source": [
    "s = pd.Series([1,2,3,4,5,6,np.nan,8,9,10])"
   ]
  },
  {
   "cell_type": "code",
   "execution_count": 53,
   "id": "e54ebf4e",
   "metadata": {},
   "outputs": [
    {
     "data": {
      "text/plain": [
       "0     1.0\n",
       "1     2.0\n",
       "2     3.0\n",
       "3     4.0\n",
       "4     5.0\n",
       "5     6.0\n",
       "6     NaN\n",
       "7     8.0\n",
       "8     9.0\n",
       "9    10.0\n",
       "dtype: float64"
      ]
     },
     "execution_count": 53,
     "metadata": {},
     "output_type": "execute_result"
    }
   ],
   "source": [
    "s"
   ]
  },
  {
   "cell_type": "code",
   "execution_count": 54,
   "id": "3d37dcbf",
   "metadata": {},
   "outputs": [],
   "source": [
    "d =pd.date_range(\"20200301\",periods = 10)"
   ]
  },
  {
   "cell_type": "code",
   "execution_count": 55,
   "id": "d884069f",
   "metadata": {},
   "outputs": [],
   "source": [
    "df= pd.DataFrame(np.random.randn(10,4),index = d,columns = [\"A\",\"B\",\"C\",\"D\"])"
   ]
  },
  {
   "cell_type": "code",
   "execution_count": 56,
   "id": "9f4b91cc",
   "metadata": {},
   "outputs": [
    {
     "data": {
      "text/html": [
       "<div>\n",
       "<style scoped>\n",
       "    .dataframe tbody tr th:only-of-type {\n",
       "        vertical-align: middle;\n",
       "    }\n",
       "\n",
       "    .dataframe tbody tr th {\n",
       "        vertical-align: top;\n",
       "    }\n",
       "\n",
       "    .dataframe thead th {\n",
       "        text-align: right;\n",
       "    }\n",
       "</style>\n",
       "<table border=\"1\" class=\"dataframe\">\n",
       "  <thead>\n",
       "    <tr style=\"text-align: right;\">\n",
       "      <th></th>\n",
       "      <th>A</th>\n",
       "      <th>B</th>\n",
       "      <th>C</th>\n",
       "      <th>D</th>\n",
       "    </tr>\n",
       "  </thead>\n",
       "  <tbody>\n",
       "    <tr>\n",
       "      <th>2020-03-01</th>\n",
       "      <td>-0.282119</td>\n",
       "      <td>0.253556</td>\n",
       "      <td>0.426075</td>\n",
       "      <td>0.436701</td>\n",
       "    </tr>\n",
       "    <tr>\n",
       "      <th>2020-03-02</th>\n",
       "      <td>1.769460</td>\n",
       "      <td>-0.502997</td>\n",
       "      <td>1.005603</td>\n",
       "      <td>0.306591</td>\n",
       "    </tr>\n",
       "    <tr>\n",
       "      <th>2020-03-03</th>\n",
       "      <td>2.360160</td>\n",
       "      <td>2.230112</td>\n",
       "      <td>0.470799</td>\n",
       "      <td>-0.497585</td>\n",
       "    </tr>\n",
       "    <tr>\n",
       "      <th>2020-03-04</th>\n",
       "      <td>1.452503</td>\n",
       "      <td>2.309780</td>\n",
       "      <td>0.080006</td>\n",
       "      <td>1.145185</td>\n",
       "    </tr>\n",
       "    <tr>\n",
       "      <th>2020-03-05</th>\n",
       "      <td>0.883398</td>\n",
       "      <td>0.797980</td>\n",
       "      <td>-0.852521</td>\n",
       "      <td>-0.578658</td>\n",
       "    </tr>\n",
       "    <tr>\n",
       "      <th>2020-03-06</th>\n",
       "      <td>-0.286275</td>\n",
       "      <td>0.594145</td>\n",
       "      <td>0.174742</td>\n",
       "      <td>0.083024</td>\n",
       "    </tr>\n",
       "    <tr>\n",
       "      <th>2020-03-07</th>\n",
       "      <td>1.367400</td>\n",
       "      <td>0.134757</td>\n",
       "      <td>-1.233608</td>\n",
       "      <td>0.334869</td>\n",
       "    </tr>\n",
       "    <tr>\n",
       "      <th>2020-03-08</th>\n",
       "      <td>-0.133112</td>\n",
       "      <td>-0.684042</td>\n",
       "      <td>0.556367</td>\n",
       "      <td>0.681305</td>\n",
       "    </tr>\n",
       "    <tr>\n",
       "      <th>2020-03-09</th>\n",
       "      <td>-0.328466</td>\n",
       "      <td>-0.019606</td>\n",
       "      <td>-1.037063</td>\n",
       "      <td>1.020461</td>\n",
       "    </tr>\n",
       "    <tr>\n",
       "      <th>2020-03-10</th>\n",
       "      <td>-0.630445</td>\n",
       "      <td>0.738629</td>\n",
       "      <td>0.665846</td>\n",
       "      <td>2.776711</td>\n",
       "    </tr>\n",
       "  </tbody>\n",
       "</table>\n",
       "</div>"
      ],
      "text/plain": [
       "                   A         B         C         D\n",
       "2020-03-01 -0.282119  0.253556  0.426075  0.436701\n",
       "2020-03-02  1.769460 -0.502997  1.005603  0.306591\n",
       "2020-03-03  2.360160  2.230112  0.470799 -0.497585\n",
       "2020-03-04  1.452503  2.309780  0.080006  1.145185\n",
       "2020-03-05  0.883398  0.797980 -0.852521 -0.578658\n",
       "2020-03-06 -0.286275  0.594145  0.174742  0.083024\n",
       "2020-03-07  1.367400  0.134757 -1.233608  0.334869\n",
       "2020-03-08 -0.133112 -0.684042  0.556367  0.681305\n",
       "2020-03-09 -0.328466 -0.019606 -1.037063  1.020461\n",
       "2020-03-10 -0.630445  0.738629  0.665846  2.776711"
      ]
     },
     "execution_count": 56,
     "metadata": {},
     "output_type": "execute_result"
    }
   ],
   "source": [
    "df"
   ]
  },
  {
   "cell_type": "code",
   "execution_count": 57,
   "id": "f7fdd22a",
   "metadata": {},
   "outputs": [
    {
     "data": {
      "text/plain": [
       "DatetimeIndex(['2020-03-01', '2020-03-02', '2020-03-03', '2020-03-04',\n",
       "               '2020-03-05', '2020-03-06', '2020-03-07', '2020-03-08',\n",
       "               '2020-03-09', '2020-03-10'],\n",
       "              dtype='datetime64[ns]', freq='D')"
      ]
     },
     "execution_count": 57,
     "metadata": {},
     "output_type": "execute_result"
    }
   ],
   "source": [
    "df.index"
   ]
  },
  {
   "cell_type": "code",
   "execution_count": 58,
   "id": "f60b131d",
   "metadata": {},
   "outputs": [
    {
     "data": {
      "text/plain": [
       "Index(['A', 'B', 'C', 'D'], dtype='object')"
      ]
     },
     "execution_count": 58,
     "metadata": {},
     "output_type": "execute_result"
    }
   ],
   "source": [
    "df.columns"
   ]
  },
  {
   "cell_type": "code",
   "execution_count": 59,
   "id": "f3ff5115",
   "metadata": {},
   "outputs": [
    {
     "data": {
      "text/plain": [
       "array([[-0.28211903,  0.25355611,  0.42607451,  0.43670079],\n",
       "       [ 1.76946026, -0.50299693,  1.00560253,  0.30659063],\n",
       "       [ 2.36015984,  2.23011249,  0.4707985 , -0.49758512],\n",
       "       [ 1.45250293,  2.30978008,  0.08000639,  1.1451851 ],\n",
       "       [ 0.88339847,  0.79797974, -0.85252117, -0.5786577 ],\n",
       "       [-0.28627544,  0.59414488,  0.17474173,  0.08302445],\n",
       "       [ 1.3673997 ,  0.13475688, -1.23360786,  0.33486902],\n",
       "       [-0.13311249, -0.68404248,  0.55636671,  0.68130532],\n",
       "       [-0.32846594, -0.0196064 , -1.03706301,  1.02046084],\n",
       "       [-0.63044457,  0.73862923,  0.66584588,  2.77671143]])"
      ]
     },
     "execution_count": 59,
     "metadata": {},
     "output_type": "execute_result"
    }
   ],
   "source": [
    "df.to_numpy()"
   ]
  },
  {
   "cell_type": "code",
   "execution_count": 60,
   "id": "32d23f6b",
   "metadata": {},
   "outputs": [
    {
     "data": {
      "text/html": [
       "<div>\n",
       "<style scoped>\n",
       "    .dataframe tbody tr th:only-of-type {\n",
       "        vertical-align: middle;\n",
       "    }\n",
       "\n",
       "    .dataframe tbody tr th {\n",
       "        vertical-align: top;\n",
       "    }\n",
       "\n",
       "    .dataframe thead th {\n",
       "        text-align: right;\n",
       "    }\n",
       "</style>\n",
       "<table border=\"1\" class=\"dataframe\">\n",
       "  <thead>\n",
       "    <tr style=\"text-align: right;\">\n",
       "      <th></th>\n",
       "      <th>A</th>\n",
       "      <th>B</th>\n",
       "      <th>C</th>\n",
       "      <th>D</th>\n",
       "    </tr>\n",
       "  </thead>\n",
       "  <tbody>\n",
       "    <tr>\n",
       "      <th>2020-03-07</th>\n",
       "      <td>1.367400</td>\n",
       "      <td>0.134757</td>\n",
       "      <td>-1.233608</td>\n",
       "      <td>0.334869</td>\n",
       "    </tr>\n",
       "    <tr>\n",
       "      <th>2020-03-09</th>\n",
       "      <td>-0.328466</td>\n",
       "      <td>-0.019606</td>\n",
       "      <td>-1.037063</td>\n",
       "      <td>1.020461</td>\n",
       "    </tr>\n",
       "    <tr>\n",
       "      <th>2020-03-05</th>\n",
       "      <td>0.883398</td>\n",
       "      <td>0.797980</td>\n",
       "      <td>-0.852521</td>\n",
       "      <td>-0.578658</td>\n",
       "    </tr>\n",
       "    <tr>\n",
       "      <th>2020-03-04</th>\n",
       "      <td>1.452503</td>\n",
       "      <td>2.309780</td>\n",
       "      <td>0.080006</td>\n",
       "      <td>1.145185</td>\n",
       "    </tr>\n",
       "    <tr>\n",
       "      <th>2020-03-06</th>\n",
       "      <td>-0.286275</td>\n",
       "      <td>0.594145</td>\n",
       "      <td>0.174742</td>\n",
       "      <td>0.083024</td>\n",
       "    </tr>\n",
       "    <tr>\n",
       "      <th>2020-03-01</th>\n",
       "      <td>-0.282119</td>\n",
       "      <td>0.253556</td>\n",
       "      <td>0.426075</td>\n",
       "      <td>0.436701</td>\n",
       "    </tr>\n",
       "    <tr>\n",
       "      <th>2020-03-03</th>\n",
       "      <td>2.360160</td>\n",
       "      <td>2.230112</td>\n",
       "      <td>0.470799</td>\n",
       "      <td>-0.497585</td>\n",
       "    </tr>\n",
       "    <tr>\n",
       "      <th>2020-03-08</th>\n",
       "      <td>-0.133112</td>\n",
       "      <td>-0.684042</td>\n",
       "      <td>0.556367</td>\n",
       "      <td>0.681305</td>\n",
       "    </tr>\n",
       "    <tr>\n",
       "      <th>2020-03-10</th>\n",
       "      <td>-0.630445</td>\n",
       "      <td>0.738629</td>\n",
       "      <td>0.665846</td>\n",
       "      <td>2.776711</td>\n",
       "    </tr>\n",
       "    <tr>\n",
       "      <th>2020-03-02</th>\n",
       "      <td>1.769460</td>\n",
       "      <td>-0.502997</td>\n",
       "      <td>1.005603</td>\n",
       "      <td>0.306591</td>\n",
       "    </tr>\n",
       "  </tbody>\n",
       "</table>\n",
       "</div>"
      ],
      "text/plain": [
       "                   A         B         C         D\n",
       "2020-03-07  1.367400  0.134757 -1.233608  0.334869\n",
       "2020-03-09 -0.328466 -0.019606 -1.037063  1.020461\n",
       "2020-03-05  0.883398  0.797980 -0.852521 -0.578658\n",
       "2020-03-04  1.452503  2.309780  0.080006  1.145185\n",
       "2020-03-06 -0.286275  0.594145  0.174742  0.083024\n",
       "2020-03-01 -0.282119  0.253556  0.426075  0.436701\n",
       "2020-03-03  2.360160  2.230112  0.470799 -0.497585\n",
       "2020-03-08 -0.133112 -0.684042  0.556367  0.681305\n",
       "2020-03-10 -0.630445  0.738629  0.665846  2.776711\n",
       "2020-03-02  1.769460 -0.502997  1.005603  0.306591"
      ]
     },
     "execution_count": 60,
     "metadata": {},
     "output_type": "execute_result"
    }
   ],
   "source": [
    "df.sort_values(by =\"C\",ascending = True)"
   ]
  },
  {
   "cell_type": "code",
   "execution_count": 61,
   "id": "b7cef733",
   "metadata": {},
   "outputs": [
    {
     "data": {
      "text/html": [
       "<div>\n",
       "<style scoped>\n",
       "    .dataframe tbody tr th:only-of-type {\n",
       "        vertical-align: middle;\n",
       "    }\n",
       "\n",
       "    .dataframe tbody tr th {\n",
       "        vertical-align: top;\n",
       "    }\n",
       "\n",
       "    .dataframe thead th {\n",
       "        text-align: right;\n",
       "    }\n",
       "</style>\n",
       "<table border=\"1\" class=\"dataframe\">\n",
       "  <thead>\n",
       "    <tr style=\"text-align: right;\">\n",
       "      <th></th>\n",
       "      <th>A</th>\n",
       "      <th>C</th>\n",
       "    </tr>\n",
       "  </thead>\n",
       "  <tbody>\n",
       "    <tr>\n",
       "      <th>2020-03-01</th>\n",
       "      <td>-0.282119</td>\n",
       "      <td>0.426075</td>\n",
       "    </tr>\n",
       "    <tr>\n",
       "      <th>2020-03-02</th>\n",
       "      <td>1.769460</td>\n",
       "      <td>1.005603</td>\n",
       "    </tr>\n",
       "    <tr>\n",
       "      <th>2020-03-03</th>\n",
       "      <td>2.360160</td>\n",
       "      <td>0.470799</td>\n",
       "    </tr>\n",
       "    <tr>\n",
       "      <th>2020-03-04</th>\n",
       "      <td>1.452503</td>\n",
       "      <td>0.080006</td>\n",
       "    </tr>\n",
       "    <tr>\n",
       "      <th>2020-03-05</th>\n",
       "      <td>0.883398</td>\n",
       "      <td>-0.852521</td>\n",
       "    </tr>\n",
       "    <tr>\n",
       "      <th>2020-03-06</th>\n",
       "      <td>-0.286275</td>\n",
       "      <td>0.174742</td>\n",
       "    </tr>\n",
       "    <tr>\n",
       "      <th>2020-03-07</th>\n",
       "      <td>1.367400</td>\n",
       "      <td>-1.233608</td>\n",
       "    </tr>\n",
       "    <tr>\n",
       "      <th>2020-03-08</th>\n",
       "      <td>-0.133112</td>\n",
       "      <td>0.556367</td>\n",
       "    </tr>\n",
       "    <tr>\n",
       "      <th>2020-03-09</th>\n",
       "      <td>-0.328466</td>\n",
       "      <td>-1.037063</td>\n",
       "    </tr>\n",
       "    <tr>\n",
       "      <th>2020-03-10</th>\n",
       "      <td>-0.630445</td>\n",
       "      <td>0.665846</td>\n",
       "    </tr>\n",
       "  </tbody>\n",
       "</table>\n",
       "</div>"
      ],
      "text/plain": [
       "                   A         C\n",
       "2020-03-01 -0.282119  0.426075\n",
       "2020-03-02  1.769460  1.005603\n",
       "2020-03-03  2.360160  0.470799\n",
       "2020-03-04  1.452503  0.080006\n",
       "2020-03-05  0.883398 -0.852521\n",
       "2020-03-06 -0.286275  0.174742\n",
       "2020-03-07  1.367400 -1.233608\n",
       "2020-03-08 -0.133112  0.556367\n",
       "2020-03-09 -0.328466 -1.037063\n",
       "2020-03-10 -0.630445  0.665846"
      ]
     },
     "execution_count": 61,
     "metadata": {},
     "output_type": "execute_result"
    }
   ],
   "source": [
    "df.loc[:,[\"A\",\"C\"]]"
   ]
  },
  {
   "cell_type": "code",
   "execution_count": 62,
   "id": "808d16a8",
   "metadata": {},
   "outputs": [
    {
     "data": {
      "text/plain": [
       "0.42607450581120604"
      ]
     },
     "execution_count": 62,
     "metadata": {},
     "output_type": "execute_result"
    }
   ],
   "source": [
    "df.at[d[0],'C']"
   ]
  },
  {
   "cell_type": "code",
   "execution_count": 63,
   "id": "541d2ded",
   "metadata": {},
   "outputs": [
    {
     "data": {
      "text/html": [
       "<div>\n",
       "<style scoped>\n",
       "    .dataframe tbody tr th:only-of-type {\n",
       "        vertical-align: middle;\n",
       "    }\n",
       "\n",
       "    .dataframe tbody tr th {\n",
       "        vertical-align: top;\n",
       "    }\n",
       "\n",
       "    .dataframe thead th {\n",
       "        text-align: right;\n",
       "    }\n",
       "</style>\n",
       "<table border=\"1\" class=\"dataframe\">\n",
       "  <thead>\n",
       "    <tr style=\"text-align: right;\">\n",
       "      <th></th>\n",
       "      <th>A</th>\n",
       "      <th>B</th>\n",
       "    </tr>\n",
       "  </thead>\n",
       "  <tbody>\n",
       "    <tr>\n",
       "      <th>2020-03-04</th>\n",
       "      <td>1.452503</td>\n",
       "      <td>2.30978</td>\n",
       "    </tr>\n",
       "    <tr>\n",
       "      <th>2020-03-05</th>\n",
       "      <td>0.883398</td>\n",
       "      <td>0.79798</td>\n",
       "    </tr>\n",
       "  </tbody>\n",
       "</table>\n",
       "</div>"
      ],
      "text/plain": [
       "                   A        B\n",
       "2020-03-04  1.452503  2.30978\n",
       "2020-03-05  0.883398  0.79798"
      ]
     },
     "execution_count": 63,
     "metadata": {},
     "output_type": "execute_result"
    }
   ],
   "source": [
    "df.iloc[3:5,0:2]"
   ]
  },
  {
   "cell_type": "code",
   "execution_count": 64,
   "id": "fb1944cb",
   "metadata": {},
   "outputs": [
    {
     "data": {
      "text/html": [
       "<div>\n",
       "<style scoped>\n",
       "    .dataframe tbody tr th:only-of-type {\n",
       "        vertical-align: middle;\n",
       "    }\n",
       "\n",
       "    .dataframe tbody tr th {\n",
       "        vertical-align: top;\n",
       "    }\n",
       "\n",
       "    .dataframe thead th {\n",
       "        text-align: right;\n",
       "    }\n",
       "</style>\n",
       "<table border=\"1\" class=\"dataframe\">\n",
       "  <thead>\n",
       "    <tr style=\"text-align: right;\">\n",
       "      <th></th>\n",
       "      <th>A</th>\n",
       "      <th>B</th>\n",
       "      <th>C</th>\n",
       "      <th>D</th>\n",
       "    </tr>\n",
       "  </thead>\n",
       "  <tbody>\n",
       "    <tr>\n",
       "      <th>2020-03-02</th>\n",
       "      <td>1.769460</td>\n",
       "      <td>-0.502997</td>\n",
       "      <td>1.005603</td>\n",
       "      <td>0.306591</td>\n",
       "    </tr>\n",
       "    <tr>\n",
       "      <th>2020-03-03</th>\n",
       "      <td>2.360160</td>\n",
       "      <td>2.230112</td>\n",
       "      <td>0.470799</td>\n",
       "      <td>-0.497585</td>\n",
       "    </tr>\n",
       "    <tr>\n",
       "      <th>2020-03-04</th>\n",
       "      <td>1.452503</td>\n",
       "      <td>2.309780</td>\n",
       "      <td>0.080006</td>\n",
       "      <td>1.145185</td>\n",
       "    </tr>\n",
       "    <tr>\n",
       "      <th>2020-03-05</th>\n",
       "      <td>0.883398</td>\n",
       "      <td>0.797980</td>\n",
       "      <td>-0.852521</td>\n",
       "      <td>-0.578658</td>\n",
       "    </tr>\n",
       "    <tr>\n",
       "      <th>2020-03-07</th>\n",
       "      <td>1.367400</td>\n",
       "      <td>0.134757</td>\n",
       "      <td>-1.233608</td>\n",
       "      <td>0.334869</td>\n",
       "    </tr>\n",
       "  </tbody>\n",
       "</table>\n",
       "</div>"
      ],
      "text/plain": [
       "                   A         B         C         D\n",
       "2020-03-02  1.769460 -0.502997  1.005603  0.306591\n",
       "2020-03-03  2.360160  2.230112  0.470799 -0.497585\n",
       "2020-03-04  1.452503  2.309780  0.080006  1.145185\n",
       "2020-03-05  0.883398  0.797980 -0.852521 -0.578658\n",
       "2020-03-07  1.367400  0.134757 -1.233608  0.334869"
      ]
     },
     "execution_count": 64,
     "metadata": {},
     "output_type": "execute_result"
    }
   ],
   "source": [
    "df[df[\"A\"]>0]"
   ]
  },
  {
   "cell_type": "code",
   "execution_count": 65,
   "id": "89812462",
   "metadata": {},
   "outputs": [],
   "source": [
    "df2 = df.reindex(index = d[0:4],columns = list(df.columns)+[\"E\"])"
   ]
  },
  {
   "cell_type": "code",
   "execution_count": 66,
   "id": "844735c9",
   "metadata": {},
   "outputs": [],
   "source": [
    "df2.loc[d[0]:d[1],'E']=1"
   ]
  },
  {
   "cell_type": "code",
   "execution_count": 67,
   "id": "67938c48",
   "metadata": {},
   "outputs": [
    {
     "data": {
      "text/html": [
       "<div>\n",
       "<style scoped>\n",
       "    .dataframe tbody tr th:only-of-type {\n",
       "        vertical-align: middle;\n",
       "    }\n",
       "\n",
       "    .dataframe tbody tr th {\n",
       "        vertical-align: top;\n",
       "    }\n",
       "\n",
       "    .dataframe thead th {\n",
       "        text-align: right;\n",
       "    }\n",
       "</style>\n",
       "<table border=\"1\" class=\"dataframe\">\n",
       "  <thead>\n",
       "    <tr style=\"text-align: right;\">\n",
       "      <th></th>\n",
       "      <th>A</th>\n",
       "      <th>B</th>\n",
       "      <th>C</th>\n",
       "      <th>D</th>\n",
       "      <th>E</th>\n",
       "    </tr>\n",
       "  </thead>\n",
       "  <tbody>\n",
       "    <tr>\n",
       "      <th>2020-03-01</th>\n",
       "      <td>-0.282119</td>\n",
       "      <td>0.253556</td>\n",
       "      <td>0.426075</td>\n",
       "      <td>0.436701</td>\n",
       "      <td>1.0</td>\n",
       "    </tr>\n",
       "    <tr>\n",
       "      <th>2020-03-02</th>\n",
       "      <td>1.769460</td>\n",
       "      <td>-0.502997</td>\n",
       "      <td>1.005603</td>\n",
       "      <td>0.306591</td>\n",
       "      <td>1.0</td>\n",
       "    </tr>\n",
       "    <tr>\n",
       "      <th>2020-03-03</th>\n",
       "      <td>2.360160</td>\n",
       "      <td>2.230112</td>\n",
       "      <td>0.470799</td>\n",
       "      <td>-0.497585</td>\n",
       "      <td>NaN</td>\n",
       "    </tr>\n",
       "    <tr>\n",
       "      <th>2020-03-04</th>\n",
       "      <td>1.452503</td>\n",
       "      <td>2.309780</td>\n",
       "      <td>0.080006</td>\n",
       "      <td>1.145185</td>\n",
       "      <td>NaN</td>\n",
       "    </tr>\n",
       "  </tbody>\n",
       "</table>\n",
       "</div>"
      ],
      "text/plain": [
       "                   A         B         C         D    E\n",
       "2020-03-01 -0.282119  0.253556  0.426075  0.436701  1.0\n",
       "2020-03-02  1.769460 -0.502997  1.005603  0.306591  1.0\n",
       "2020-03-03  2.360160  2.230112  0.470799 -0.497585  NaN\n",
       "2020-03-04  1.452503  2.309780  0.080006  1.145185  NaN"
      ]
     },
     "execution_count": 67,
     "metadata": {},
     "output_type": "execute_result"
    }
   ],
   "source": [
    "df2"
   ]
  },
  {
   "cell_type": "code",
   "execution_count": 68,
   "id": "bb49514e",
   "metadata": {},
   "outputs": [
    {
     "data": {
      "text/plain": [
       "A    4\n",
       "B    4\n",
       "C    4\n",
       "D    4\n",
       "E    4\n",
       "dtype: int64"
      ]
     },
     "execution_count": 68,
     "metadata": {},
     "output_type": "execute_result"
    }
   ],
   "source": [
    "df2.isnull().count()"
   ]
  },
  {
   "cell_type": "code",
   "execution_count": 69,
   "id": "575dfe69",
   "metadata": {},
   "outputs": [
    {
     "data": {
      "text/html": [
       "<div>\n",
       "<style scoped>\n",
       "    .dataframe tbody tr th:only-of-type {\n",
       "        vertical-align: middle;\n",
       "    }\n",
       "\n",
       "    .dataframe tbody tr th {\n",
       "        vertical-align: top;\n",
       "    }\n",
       "\n",
       "    .dataframe thead th {\n",
       "        text-align: right;\n",
       "    }\n",
       "</style>\n",
       "<table border=\"1\" class=\"dataframe\">\n",
       "  <thead>\n",
       "    <tr style=\"text-align: right;\">\n",
       "      <th></th>\n",
       "      <th>A</th>\n",
       "      <th>B</th>\n",
       "      <th>C</th>\n",
       "      <th>D</th>\n",
       "      <th>E</th>\n",
       "    </tr>\n",
       "  </thead>\n",
       "  <tbody>\n",
       "    <tr>\n",
       "      <th>2020-03-01</th>\n",
       "      <td>False</td>\n",
       "      <td>False</td>\n",
       "      <td>False</td>\n",
       "      <td>False</td>\n",
       "      <td>False</td>\n",
       "    </tr>\n",
       "    <tr>\n",
       "      <th>2020-03-02</th>\n",
       "      <td>False</td>\n",
       "      <td>False</td>\n",
       "      <td>False</td>\n",
       "      <td>False</td>\n",
       "      <td>False</td>\n",
       "    </tr>\n",
       "    <tr>\n",
       "      <th>2020-03-03</th>\n",
       "      <td>False</td>\n",
       "      <td>False</td>\n",
       "      <td>False</td>\n",
       "      <td>False</td>\n",
       "      <td>True</td>\n",
       "    </tr>\n",
       "    <tr>\n",
       "      <th>2020-03-04</th>\n",
       "      <td>False</td>\n",
       "      <td>False</td>\n",
       "      <td>False</td>\n",
       "      <td>False</td>\n",
       "      <td>True</td>\n",
       "    </tr>\n",
       "  </tbody>\n",
       "</table>\n",
       "</div>"
      ],
      "text/plain": [
       "                A      B      C      D      E\n",
       "2020-03-01  False  False  False  False  False\n",
       "2020-03-02  False  False  False  False  False\n",
       "2020-03-03  False  False  False  False   True\n",
       "2020-03-04  False  False  False  False   True"
      ]
     },
     "execution_count": 69,
     "metadata": {},
     "output_type": "execute_result"
    }
   ],
   "source": [
    "df2.isnull()"
   ]
  },
  {
   "cell_type": "code",
   "execution_count": 70,
   "id": "0317b429",
   "metadata": {},
   "outputs": [
    {
     "data": {
      "text/html": [
       "<div>\n",
       "<style scoped>\n",
       "    .dataframe tbody tr th:only-of-type {\n",
       "        vertical-align: middle;\n",
       "    }\n",
       "\n",
       "    .dataframe tbody tr th {\n",
       "        vertical-align: top;\n",
       "    }\n",
       "\n",
       "    .dataframe thead th {\n",
       "        text-align: right;\n",
       "    }\n",
       "</style>\n",
       "<table border=\"1\" class=\"dataframe\">\n",
       "  <thead>\n",
       "    <tr style=\"text-align: right;\">\n",
       "      <th></th>\n",
       "      <th>A</th>\n",
       "      <th>B</th>\n",
       "      <th>C</th>\n",
       "      <th>D</th>\n",
       "      <th>E</th>\n",
       "    </tr>\n",
       "  </thead>\n",
       "  <tbody>\n",
       "    <tr>\n",
       "      <th>2020-03-01</th>\n",
       "      <td>-0.282119</td>\n",
       "      <td>0.253556</td>\n",
       "      <td>0.426075</td>\n",
       "      <td>0.436701</td>\n",
       "      <td>1.0</td>\n",
       "    </tr>\n",
       "    <tr>\n",
       "      <th>2020-03-02</th>\n",
       "      <td>1.769460</td>\n",
       "      <td>-0.502997</td>\n",
       "      <td>1.005603</td>\n",
       "      <td>0.306591</td>\n",
       "      <td>1.0</td>\n",
       "    </tr>\n",
       "  </tbody>\n",
       "</table>\n",
       "</div>"
      ],
      "text/plain": [
       "                   A         B         C         D    E\n",
       "2020-03-01 -0.282119  0.253556  0.426075  0.436701  1.0\n",
       "2020-03-02  1.769460 -0.502997  1.005603  0.306591  1.0"
      ]
     },
     "execution_count": 70,
     "metadata": {},
     "output_type": "execute_result"
    }
   ],
   "source": [
    "df2.dropna()"
   ]
  },
  {
   "cell_type": "code",
   "execution_count": 71,
   "id": "7a114888",
   "metadata": {},
   "outputs": [
    {
     "data": {
      "text/html": [
       "<div>\n",
       "<style scoped>\n",
       "    .dataframe tbody tr th:only-of-type {\n",
       "        vertical-align: middle;\n",
       "    }\n",
       "\n",
       "    .dataframe tbody tr th {\n",
       "        vertical-align: top;\n",
       "    }\n",
       "\n",
       "    .dataframe thead th {\n",
       "        text-align: right;\n",
       "    }\n",
       "</style>\n",
       "<table border=\"1\" class=\"dataframe\">\n",
       "  <thead>\n",
       "    <tr style=\"text-align: right;\">\n",
       "      <th></th>\n",
       "      <th>A</th>\n",
       "      <th>B</th>\n",
       "      <th>C</th>\n",
       "      <th>D</th>\n",
       "      <th>E</th>\n",
       "    </tr>\n",
       "  </thead>\n",
       "  <tbody>\n",
       "    <tr>\n",
       "      <th>2020-03-01</th>\n",
       "      <td>-0.282119</td>\n",
       "      <td>0.253556</td>\n",
       "      <td>0.426075</td>\n",
       "      <td>0.436701</td>\n",
       "      <td>1.0</td>\n",
       "    </tr>\n",
       "    <tr>\n",
       "      <th>2020-03-02</th>\n",
       "      <td>1.769460</td>\n",
       "      <td>-0.502997</td>\n",
       "      <td>1.005603</td>\n",
       "      <td>0.306591</td>\n",
       "      <td>1.0</td>\n",
       "    </tr>\n",
       "    <tr>\n",
       "      <th>2020-03-03</th>\n",
       "      <td>2.360160</td>\n",
       "      <td>2.230112</td>\n",
       "      <td>0.470799</td>\n",
       "      <td>-0.497585</td>\n",
       "      <td>2.0</td>\n",
       "    </tr>\n",
       "    <tr>\n",
       "      <th>2020-03-04</th>\n",
       "      <td>1.452503</td>\n",
       "      <td>2.309780</td>\n",
       "      <td>0.080006</td>\n",
       "      <td>1.145185</td>\n",
       "      <td>2.0</td>\n",
       "    </tr>\n",
       "  </tbody>\n",
       "</table>\n",
       "</div>"
      ],
      "text/plain": [
       "                   A         B         C         D    E\n",
       "2020-03-01 -0.282119  0.253556  0.426075  0.436701  1.0\n",
       "2020-03-02  1.769460 -0.502997  1.005603  0.306591  1.0\n",
       "2020-03-03  2.360160  2.230112  0.470799 -0.497585  2.0\n",
       "2020-03-04  1.452503  2.309780  0.080006  1.145185  2.0"
      ]
     },
     "execution_count": 71,
     "metadata": {},
     "output_type": "execute_result"
    }
   ],
   "source": [
    "df2.fillna(value=2)"
   ]
  },
  {
   "cell_type": "code",
   "execution_count": 75,
   "id": "bd6b3619",
   "metadata": {},
   "outputs": [
    {
     "data": {
      "text/plain": [
       "2020-03-01    0.208553\n",
       "2020-03-02    0.644664\n",
       "2020-03-03    1.140871\n",
       "2020-03-04    1.246869\n",
       "2020-03-05    0.062550\n",
       "2020-03-06    0.141409\n",
       "2020-03-07    0.150854\n",
       "2020-03-08    0.105129\n",
       "2020-03-09   -0.091169\n",
       "2020-03-10    0.887685\n",
       "Freq: D, dtype: float64"
      ]
     },
     "execution_count": 75,
     "metadata": {},
     "output_type": "execute_result"
    }
   ],
   "source": [
    "df.mean(1)"
   ]
  },
  {
   "cell_type": "code",
   "execution_count": 76,
   "id": "91d1780f",
   "metadata": {},
   "outputs": [
    {
     "data": {
      "text/html": [
       "<div>\n",
       "<style scoped>\n",
       "    .dataframe tbody tr th:only-of-type {\n",
       "        vertical-align: middle;\n",
       "    }\n",
       "\n",
       "    .dataframe tbody tr th {\n",
       "        vertical-align: top;\n",
       "    }\n",
       "\n",
       "    .dataframe thead th {\n",
       "        text-align: right;\n",
       "    }\n",
       "</style>\n",
       "<table border=\"1\" class=\"dataframe\">\n",
       "  <thead>\n",
       "    <tr style=\"text-align: right;\">\n",
       "      <th></th>\n",
       "      <th>A</th>\n",
       "      <th>B</th>\n",
       "      <th>C</th>\n",
       "      <th>D</th>\n",
       "    </tr>\n",
       "  </thead>\n",
       "  <tbody>\n",
       "    <tr>\n",
       "      <th>2020-03-01</th>\n",
       "      <td>-0.282119</td>\n",
       "      <td>0.253556</td>\n",
       "      <td>0.426075</td>\n",
       "      <td>0.436701</td>\n",
       "    </tr>\n",
       "    <tr>\n",
       "      <th>2020-03-02</th>\n",
       "      <td>1.769460</td>\n",
       "      <td>-0.502997</td>\n",
       "      <td>1.005603</td>\n",
       "      <td>0.306591</td>\n",
       "    </tr>\n",
       "    <tr>\n",
       "      <th>2020-03-03</th>\n",
       "      <td>2.360160</td>\n",
       "      <td>2.230112</td>\n",
       "      <td>0.470799</td>\n",
       "      <td>-0.497585</td>\n",
       "    </tr>\n",
       "    <tr>\n",
       "      <th>2020-03-04</th>\n",
       "      <td>1.452503</td>\n",
       "      <td>2.309780</td>\n",
       "      <td>0.080006</td>\n",
       "      <td>1.145185</td>\n",
       "    </tr>\n",
       "    <tr>\n",
       "      <th>2020-03-05</th>\n",
       "      <td>0.883398</td>\n",
       "      <td>0.797980</td>\n",
       "      <td>-0.852521</td>\n",
       "      <td>-0.578658</td>\n",
       "    </tr>\n",
       "    <tr>\n",
       "      <th>2020-03-06</th>\n",
       "      <td>-0.286275</td>\n",
       "      <td>0.594145</td>\n",
       "      <td>0.174742</td>\n",
       "      <td>0.083024</td>\n",
       "    </tr>\n",
       "    <tr>\n",
       "      <th>2020-03-07</th>\n",
       "      <td>1.367400</td>\n",
       "      <td>0.134757</td>\n",
       "      <td>-1.233608</td>\n",
       "      <td>0.334869</td>\n",
       "    </tr>\n",
       "    <tr>\n",
       "      <th>2020-03-08</th>\n",
       "      <td>-0.133112</td>\n",
       "      <td>-0.684042</td>\n",
       "      <td>0.556367</td>\n",
       "      <td>0.681305</td>\n",
       "    </tr>\n",
       "    <tr>\n",
       "      <th>2020-03-09</th>\n",
       "      <td>-0.328466</td>\n",
       "      <td>-0.019606</td>\n",
       "      <td>-1.037063</td>\n",
       "      <td>1.020461</td>\n",
       "    </tr>\n",
       "    <tr>\n",
       "      <th>2020-03-10</th>\n",
       "      <td>-0.630445</td>\n",
       "      <td>0.738629</td>\n",
       "      <td>0.665846</td>\n",
       "      <td>2.776711</td>\n",
       "    </tr>\n",
       "  </tbody>\n",
       "</table>\n",
       "</div>"
      ],
      "text/plain": [
       "                   A         B         C         D\n",
       "2020-03-01 -0.282119  0.253556  0.426075  0.436701\n",
       "2020-03-02  1.769460 -0.502997  1.005603  0.306591\n",
       "2020-03-03  2.360160  2.230112  0.470799 -0.497585\n",
       "2020-03-04  1.452503  2.309780  0.080006  1.145185\n",
       "2020-03-05  0.883398  0.797980 -0.852521 -0.578658\n",
       "2020-03-06 -0.286275  0.594145  0.174742  0.083024\n",
       "2020-03-07  1.367400  0.134757 -1.233608  0.334869\n",
       "2020-03-08 -0.133112 -0.684042  0.556367  0.681305\n",
       "2020-03-09 -0.328466 -0.019606 -1.037063  1.020461\n",
       "2020-03-10 -0.630445  0.738629  0.665846  2.776711"
      ]
     },
     "execution_count": 76,
     "metadata": {},
     "output_type": "execute_result"
    }
   ],
   "source": [
    "df"
   ]
  },
  {
   "cell_type": "code",
   "execution_count": 77,
   "id": "2cdf4085",
   "metadata": {},
   "outputs": [
    {
     "data": {
      "text/plain": [
       "A    2.990604\n",
       "B    2.993823\n",
       "C    2.239210\n",
       "D    3.355369\n",
       "dtype: float64"
      ]
     },
     "execution_count": 77,
     "metadata": {},
     "output_type": "execute_result"
    }
   ],
   "source": [
    "df.apply(lambda x : x.max()-x.min())"
   ]
  },
  {
   "cell_type": "code",
   "execution_count": 80,
   "id": "3040e92d",
   "metadata": {},
   "outputs": [
    {
     "data": {
      "text/html": [
       "<div>\n",
       "<style scoped>\n",
       "    .dataframe tbody tr th:only-of-type {\n",
       "        vertical-align: middle;\n",
       "    }\n",
       "\n",
       "    .dataframe tbody tr th {\n",
       "        vertical-align: top;\n",
       "    }\n",
       "\n",
       "    .dataframe thead th {\n",
       "        text-align: right;\n",
       "    }\n",
       "</style>\n",
       "<table border=\"1\" class=\"dataframe\">\n",
       "  <thead>\n",
       "    <tr style=\"text-align: right;\">\n",
       "      <th></th>\n",
       "      <th>A</th>\n",
       "      <th>B</th>\n",
       "      <th>C</th>\n",
       "      <th>D</th>\n",
       "    </tr>\n",
       "  </thead>\n",
       "  <tbody>\n",
       "    <tr>\n",
       "      <th>2020-03-01</th>\n",
       "      <td>-0.282119</td>\n",
       "      <td>0.253556</td>\n",
       "      <td>0.426075</td>\n",
       "      <td>0.436701</td>\n",
       "    </tr>\n",
       "    <tr>\n",
       "      <th>2020-03-02</th>\n",
       "      <td>1.487341</td>\n",
       "      <td>-0.249441</td>\n",
       "      <td>1.431677</td>\n",
       "      <td>0.743291</td>\n",
       "    </tr>\n",
       "    <tr>\n",
       "      <th>2020-03-03</th>\n",
       "      <td>3.847501</td>\n",
       "      <td>1.980672</td>\n",
       "      <td>1.902476</td>\n",
       "      <td>0.245706</td>\n",
       "    </tr>\n",
       "    <tr>\n",
       "      <th>2020-03-04</th>\n",
       "      <td>5.300004</td>\n",
       "      <td>4.290452</td>\n",
       "      <td>1.982482</td>\n",
       "      <td>1.390891</td>\n",
       "    </tr>\n",
       "    <tr>\n",
       "      <th>2020-03-05</th>\n",
       "      <td>6.183402</td>\n",
       "      <td>5.088431</td>\n",
       "      <td>1.129961</td>\n",
       "      <td>0.812234</td>\n",
       "    </tr>\n",
       "    <tr>\n",
       "      <th>2020-03-06</th>\n",
       "      <td>5.897127</td>\n",
       "      <td>5.682576</td>\n",
       "      <td>1.304702</td>\n",
       "      <td>0.895258</td>\n",
       "    </tr>\n",
       "    <tr>\n",
       "      <th>2020-03-07</th>\n",
       "      <td>7.264527</td>\n",
       "      <td>5.817333</td>\n",
       "      <td>0.071095</td>\n",
       "      <td>1.230127</td>\n",
       "    </tr>\n",
       "    <tr>\n",
       "      <th>2020-03-08</th>\n",
       "      <td>7.131414</td>\n",
       "      <td>5.133291</td>\n",
       "      <td>0.627461</td>\n",
       "      <td>1.911432</td>\n",
       "    </tr>\n",
       "    <tr>\n",
       "      <th>2020-03-09</th>\n",
       "      <td>6.802948</td>\n",
       "      <td>5.113684</td>\n",
       "      <td>-0.409602</td>\n",
       "      <td>2.931893</td>\n",
       "    </tr>\n",
       "    <tr>\n",
       "      <th>2020-03-10</th>\n",
       "      <td>6.172504</td>\n",
       "      <td>5.852314</td>\n",
       "      <td>0.256244</td>\n",
       "      <td>5.708605</td>\n",
       "    </tr>\n",
       "  </tbody>\n",
       "</table>\n",
       "</div>"
      ],
      "text/plain": [
       "                   A         B         C         D\n",
       "2020-03-01 -0.282119  0.253556  0.426075  0.436701\n",
       "2020-03-02  1.487341 -0.249441  1.431677  0.743291\n",
       "2020-03-03  3.847501  1.980672  1.902476  0.245706\n",
       "2020-03-04  5.300004  4.290452  1.982482  1.390891\n",
       "2020-03-05  6.183402  5.088431  1.129961  0.812234\n",
       "2020-03-06  5.897127  5.682576  1.304702  0.895258\n",
       "2020-03-07  7.264527  5.817333  0.071095  1.230127\n",
       "2020-03-08  7.131414  5.133291  0.627461  1.911432\n",
       "2020-03-09  6.802948  5.113684 -0.409602  2.931893\n",
       "2020-03-10  6.172504  5.852314  0.256244  5.708605"
      ]
     },
     "execution_count": 80,
     "metadata": {},
     "output_type": "execute_result"
    }
   ],
   "source": [
    " df.apply(np.cumsum)"
   ]
  },
  {
   "cell_type": "code",
   "execution_count": 81,
   "id": "af450601",
   "metadata": {},
   "outputs": [
    {
     "data": {
      "text/plain": [
       "1.0     1\n",
       "2.0     1\n",
       "3.0     1\n",
       "4.0     1\n",
       "5.0     1\n",
       "6.0     1\n",
       "8.0     1\n",
       "9.0     1\n",
       "10.0    1\n",
       "dtype: int64"
      ]
     },
     "execution_count": 81,
     "metadata": {},
     "output_type": "execute_result"
    }
   ],
   "source": [
    "s.value_counts()"
   ]
  },
  {
   "cell_type": "code",
   "execution_count": 82,
   "id": "f428e571",
   "metadata": {},
   "outputs": [],
   "source": [
    "s = pd.Series([\"Edureka\",\"Python\",\"Numpy\",np.nan,\"Pandas\",\"World\"])\n"
   ]
  },
  {
   "cell_type": "code",
   "execution_count": 83,
   "id": "69acbab2",
   "metadata": {},
   "outputs": [
    {
     "data": {
      "text/plain": [
       "0    EDUREKA\n",
       "1     PYTHON\n",
       "2      NUMPY\n",
       "3        NaN\n",
       "4     PANDAS\n",
       "5      WORLD\n",
       "dtype: object"
      ]
     },
     "execution_count": 83,
     "metadata": {},
     "output_type": "execute_result"
    }
   ],
   "source": [
    "s.str.upper()"
   ]
  },
  {
   "cell_type": "code",
   "execution_count": 89,
   "id": "0b75afef",
   "metadata": {},
   "outputs": [],
   "source": [
    "df = pd.DataFrame(np.random.randn(10,4))"
   ]
  },
  {
   "cell_type": "code",
   "execution_count": 90,
   "id": "5fa4a838",
   "metadata": {},
   "outputs": [],
   "source": [
    "df2 = [df3[:3],df[3:7],df[7:]]"
   ]
  },
  {
   "cell_type": "code",
   "execution_count": 91,
   "id": "0e047bbc",
   "metadata": {},
   "outputs": [
    {
     "data": {
      "text/plain": [
       "[          0         1         2         3\n",
       " 0  0.154510 -1.727891 -2.996961 -1.035857\n",
       " 1 -0.462190  0.195030  0.384760  0.539670\n",
       " 2 -2.502801  1.090677  0.195465 -1.303358,\n",
       "           0         1         2         3\n",
       " 3  1.157907 -0.372367  1.246012  1.371064\n",
       " 4 -2.062284  0.924989 -0.888125 -0.452184\n",
       " 5  0.650077 -0.667178  0.097596 -0.036788\n",
       " 6  0.137472 -2.573622  1.020644  0.303373,\n",
       "           0         1         2         3\n",
       " 7  0.846623  1.117432 -1.661930 -0.204318\n",
       " 8  0.710592 -0.492858  0.731265  1.128872\n",
       " 9  0.256295 -1.328828  0.321954 -0.570677]"
      ]
     },
     "execution_count": 91,
     "metadata": {},
     "output_type": "execute_result"
    }
   ],
   "source": [
    "df2"
   ]
  },
  {
   "cell_type": "code",
   "execution_count": 92,
   "id": "ffa932c1",
   "metadata": {},
   "outputs": [
    {
     "data": {
      "text/html": [
       "<div>\n",
       "<style scoped>\n",
       "    .dataframe tbody tr th:only-of-type {\n",
       "        vertical-align: middle;\n",
       "    }\n",
       "\n",
       "    .dataframe tbody tr th {\n",
       "        vertical-align: top;\n",
       "    }\n",
       "\n",
       "    .dataframe thead th {\n",
       "        text-align: right;\n",
       "    }\n",
       "</style>\n",
       "<table border=\"1\" class=\"dataframe\">\n",
       "  <thead>\n",
       "    <tr style=\"text-align: right;\">\n",
       "      <th></th>\n",
       "      <th>0</th>\n",
       "      <th>1</th>\n",
       "      <th>2</th>\n",
       "      <th>3</th>\n",
       "    </tr>\n",
       "  </thead>\n",
       "  <tbody>\n",
       "    <tr>\n",
       "      <th>0</th>\n",
       "      <td>0.154510</td>\n",
       "      <td>-1.727891</td>\n",
       "      <td>-2.996961</td>\n",
       "      <td>-1.035857</td>\n",
       "    </tr>\n",
       "    <tr>\n",
       "      <th>1</th>\n",
       "      <td>-0.462190</td>\n",
       "      <td>0.195030</td>\n",
       "      <td>0.384760</td>\n",
       "      <td>0.539670</td>\n",
       "    </tr>\n",
       "    <tr>\n",
       "      <th>2</th>\n",
       "      <td>-2.502801</td>\n",
       "      <td>1.090677</td>\n",
       "      <td>0.195465</td>\n",
       "      <td>-1.303358</td>\n",
       "    </tr>\n",
       "    <tr>\n",
       "      <th>3</th>\n",
       "      <td>1.157907</td>\n",
       "      <td>-0.372367</td>\n",
       "      <td>1.246012</td>\n",
       "      <td>1.371064</td>\n",
       "    </tr>\n",
       "    <tr>\n",
       "      <th>4</th>\n",
       "      <td>-2.062284</td>\n",
       "      <td>0.924989</td>\n",
       "      <td>-0.888125</td>\n",
       "      <td>-0.452184</td>\n",
       "    </tr>\n",
       "    <tr>\n",
       "      <th>5</th>\n",
       "      <td>0.650077</td>\n",
       "      <td>-0.667178</td>\n",
       "      <td>0.097596</td>\n",
       "      <td>-0.036788</td>\n",
       "    </tr>\n",
       "    <tr>\n",
       "      <th>6</th>\n",
       "      <td>0.137472</td>\n",
       "      <td>-2.573622</td>\n",
       "      <td>1.020644</td>\n",
       "      <td>0.303373</td>\n",
       "    </tr>\n",
       "    <tr>\n",
       "      <th>7</th>\n",
       "      <td>0.846623</td>\n",
       "      <td>1.117432</td>\n",
       "      <td>-1.661930</td>\n",
       "      <td>-0.204318</td>\n",
       "    </tr>\n",
       "    <tr>\n",
       "      <th>8</th>\n",
       "      <td>0.710592</td>\n",
       "      <td>-0.492858</td>\n",
       "      <td>0.731265</td>\n",
       "      <td>1.128872</td>\n",
       "    </tr>\n",
       "    <tr>\n",
       "      <th>9</th>\n",
       "      <td>0.256295</td>\n",
       "      <td>-1.328828</td>\n",
       "      <td>0.321954</td>\n",
       "      <td>-0.570677</td>\n",
       "    </tr>\n",
       "  </tbody>\n",
       "</table>\n",
       "</div>"
      ],
      "text/plain": [
       "          0         1         2         3\n",
       "0  0.154510 -1.727891 -2.996961 -1.035857\n",
       "1 -0.462190  0.195030  0.384760  0.539670\n",
       "2 -2.502801  1.090677  0.195465 -1.303358\n",
       "3  1.157907 -0.372367  1.246012  1.371064\n",
       "4 -2.062284  0.924989 -0.888125 -0.452184\n",
       "5  0.650077 -0.667178  0.097596 -0.036788\n",
       "6  0.137472 -2.573622  1.020644  0.303373\n",
       "7  0.846623  1.117432 -1.661930 -0.204318\n",
       "8  0.710592 -0.492858  0.731265  1.128872\n",
       "9  0.256295 -1.328828  0.321954 -0.570677"
      ]
     },
     "execution_count": 92,
     "metadata": {},
     "output_type": "execute_result"
    }
   ],
   "source": [
    "pd.concat(df2)"
   ]
  },
  {
   "cell_type": "code",
   "execution_count": 95,
   "id": "a497f08b",
   "metadata": {},
   "outputs": [
    {
     "data": {
      "text/html": [
       "<div>\n",
       "<style scoped>\n",
       "    .dataframe tbody tr th:only-of-type {\n",
       "        vertical-align: middle;\n",
       "    }\n",
       "\n",
       "    .dataframe tbody tr th {\n",
       "        vertical-align: top;\n",
       "    }\n",
       "\n",
       "    .dataframe thead th {\n",
       "        text-align: right;\n",
       "    }\n",
       "</style>\n",
       "<table border=\"1\" class=\"dataframe\">\n",
       "  <thead>\n",
       "    <tr style=\"text-align: right;\">\n",
       "      <th></th>\n",
       "      <th>A</th>\n",
       "      <th>B</th>\n",
       "    </tr>\n",
       "  </thead>\n",
       "  <tbody>\n",
       "    <tr>\n",
       "      <th>0</th>\n",
       "      <td>1</td>\n",
       "      <td>3</td>\n",
       "    </tr>\n",
       "    <tr>\n",
       "      <th>1</th>\n",
       "      <td>2</td>\n",
       "      <td>4</td>\n",
       "    </tr>\n",
       "  </tbody>\n",
       "</table>\n",
       "</div>"
      ],
      "text/plain": [
       "   A  B\n",
       "0  1  3\n",
       "1  2  4"
      ]
     },
     "execution_count": 95,
     "metadata": {},
     "output_type": "execute_result"
    }
   ],
   "source": [
    "left = pd.DataFrame({\"A\":[1,2],\"B\":[3,4]})\n",
    "left"
   ]
  },
  {
   "cell_type": "code",
   "execution_count": 97,
   "id": "892d9800",
   "metadata": {},
   "outputs": [
    {
     "data": {
      "text/html": [
       "<div>\n",
       "<style scoped>\n",
       "    .dataframe tbody tr th:only-of-type {\n",
       "        vertical-align: middle;\n",
       "    }\n",
       "\n",
       "    .dataframe tbody tr th {\n",
       "        vertical-align: top;\n",
       "    }\n",
       "\n",
       "    .dataframe thead th {\n",
       "        text-align: right;\n",
       "    }\n",
       "</style>\n",
       "<table border=\"1\" class=\"dataframe\">\n",
       "  <thead>\n",
       "    <tr style=\"text-align: right;\">\n",
       "      <th></th>\n",
       "      <th>A</th>\n",
       "      <th>D</th>\n",
       "    </tr>\n",
       "  </thead>\n",
       "  <tbody>\n",
       "    <tr>\n",
       "      <th>0</th>\n",
       "      <td>3</td>\n",
       "      <td>4</td>\n",
       "    </tr>\n",
       "    <tr>\n",
       "      <th>1</th>\n",
       "      <td>2</td>\n",
       "      <td>5</td>\n",
       "    </tr>\n",
       "  </tbody>\n",
       "</table>\n",
       "</div>"
      ],
      "text/plain": [
       "   A  D\n",
       "0  3  4\n",
       "1  2  5"
      ]
     },
     "execution_count": 97,
     "metadata": {},
     "output_type": "execute_result"
    }
   ],
   "source": [
    "right = pd.DataFrame({\"A\":[3,2],\"D\":[4,5]})\n",
    "right"
   ]
  },
  {
   "cell_type": "code",
   "execution_count": 98,
   "id": "e3d53983",
   "metadata": {},
   "outputs": [
    {
     "data": {
      "text/html": [
       "<div>\n",
       "<style scoped>\n",
       "    .dataframe tbody tr th:only-of-type {\n",
       "        vertical-align: middle;\n",
       "    }\n",
       "\n",
       "    .dataframe tbody tr th {\n",
       "        vertical-align: top;\n",
       "    }\n",
       "\n",
       "    .dataframe thead th {\n",
       "        text-align: right;\n",
       "    }\n",
       "</style>\n",
       "<table border=\"1\" class=\"dataframe\">\n",
       "  <thead>\n",
       "    <tr style=\"text-align: right;\">\n",
       "      <th></th>\n",
       "      <th>A</th>\n",
       "      <th>B</th>\n",
       "      <th>D</th>\n",
       "    </tr>\n",
       "  </thead>\n",
       "  <tbody>\n",
       "    <tr>\n",
       "      <th>0</th>\n",
       "      <td>2</td>\n",
       "      <td>4</td>\n",
       "      <td>5</td>\n",
       "    </tr>\n",
       "  </tbody>\n",
       "</table>\n",
       "</div>"
      ],
      "text/plain": [
       "   A  B  D\n",
       "0  2  4  5"
      ]
     },
     "execution_count": 98,
     "metadata": {},
     "output_type": "execute_result"
    }
   ],
   "source": [
    "pd.merge(left,right ,on ='A')"
   ]
  },
  {
   "cell_type": "code",
   "execution_count": 99,
   "id": "2b6b9fe0",
   "metadata": {},
   "outputs": [
    {
     "data": {
      "text/html": [
       "<div>\n",
       "<style scoped>\n",
       "    .dataframe tbody tr th:only-of-type {\n",
       "        vertical-align: middle;\n",
       "    }\n",
       "\n",
       "    .dataframe tbody tr th {\n",
       "        vertical-align: top;\n",
       "    }\n",
       "\n",
       "    .dataframe thead th {\n",
       "        text-align: right;\n",
       "    }\n",
       "</style>\n",
       "<table border=\"1\" class=\"dataframe\">\n",
       "  <thead>\n",
       "    <tr style=\"text-align: right;\">\n",
       "      <th></th>\n",
       "      <th>0</th>\n",
       "      <th>1</th>\n",
       "      <th>2</th>\n",
       "      <th>3</th>\n",
       "    </tr>\n",
       "  </thead>\n",
       "  <tbody>\n",
       "    <tr>\n",
       "      <th>0</th>\n",
       "      <td>-0.107571</td>\n",
       "      <td>0.661013</td>\n",
       "      <td>0.527728</td>\n",
       "      <td>0.335126</td>\n",
       "    </tr>\n",
       "    <tr>\n",
       "      <th>1</th>\n",
       "      <td>-1.670019</td>\n",
       "      <td>-1.648424</td>\n",
       "      <td>0.343992</td>\n",
       "      <td>2.456606</td>\n",
       "    </tr>\n",
       "    <tr>\n",
       "      <th>2</th>\n",
       "      <td>1.556422</td>\n",
       "      <td>0.133587</td>\n",
       "      <td>0.317618</td>\n",
       "      <td>-0.945580</td>\n",
       "    </tr>\n",
       "    <tr>\n",
       "      <th>3</th>\n",
       "      <td>1.157907</td>\n",
       "      <td>-0.372367</td>\n",
       "      <td>1.246012</td>\n",
       "      <td>1.371064</td>\n",
       "    </tr>\n",
       "    <tr>\n",
       "      <th>4</th>\n",
       "      <td>-2.062284</td>\n",
       "      <td>0.924989</td>\n",
       "      <td>-0.888125</td>\n",
       "      <td>-0.452184</td>\n",
       "    </tr>\n",
       "    <tr>\n",
       "      <th>5</th>\n",
       "      <td>0.650077</td>\n",
       "      <td>-0.667178</td>\n",
       "      <td>0.097596</td>\n",
       "      <td>-0.036788</td>\n",
       "    </tr>\n",
       "    <tr>\n",
       "      <th>6</th>\n",
       "      <td>0.137472</td>\n",
       "      <td>-2.573622</td>\n",
       "      <td>1.020644</td>\n",
       "      <td>0.303373</td>\n",
       "    </tr>\n",
       "    <tr>\n",
       "      <th>7</th>\n",
       "      <td>0.846623</td>\n",
       "      <td>1.117432</td>\n",
       "      <td>-1.661930</td>\n",
       "      <td>-0.204318</td>\n",
       "    </tr>\n",
       "    <tr>\n",
       "      <th>8</th>\n",
       "      <td>0.710592</td>\n",
       "      <td>-0.492858</td>\n",
       "      <td>0.731265</td>\n",
       "      <td>1.128872</td>\n",
       "    </tr>\n",
       "    <tr>\n",
       "      <th>9</th>\n",
       "      <td>0.256295</td>\n",
       "      <td>-1.328828</td>\n",
       "      <td>0.321954</td>\n",
       "      <td>-0.570677</td>\n",
       "    </tr>\n",
       "  </tbody>\n",
       "</table>\n",
       "</div>"
      ],
      "text/plain": [
       "          0         1         2         3\n",
       "0 -0.107571  0.661013  0.527728  0.335126\n",
       "1 -1.670019 -1.648424  0.343992  2.456606\n",
       "2  1.556422  0.133587  0.317618 -0.945580\n",
       "3  1.157907 -0.372367  1.246012  1.371064\n",
       "4 -2.062284  0.924989 -0.888125 -0.452184\n",
       "5  0.650077 -0.667178  0.097596 -0.036788\n",
       "6  0.137472 -2.573622  1.020644  0.303373\n",
       "7  0.846623  1.117432 -1.661930 -0.204318\n",
       "8  0.710592 -0.492858  0.731265  1.128872\n",
       "9  0.256295 -1.328828  0.321954 -0.570677"
      ]
     },
     "execution_count": 99,
     "metadata": {},
     "output_type": "execute_result"
    }
   ],
   "source": [
    "df"
   ]
  },
  {
   "cell_type": "code",
   "execution_count": 100,
   "id": "5ea53bb1",
   "metadata": {},
   "outputs": [
    {
     "data": {
      "text/html": [
       "<div>\n",
       "<style scoped>\n",
       "    .dataframe tbody tr th:only-of-type {\n",
       "        vertical-align: middle;\n",
       "    }\n",
       "\n",
       "    .dataframe tbody tr th {\n",
       "        vertical-align: top;\n",
       "    }\n",
       "\n",
       "    .dataframe thead th {\n",
       "        text-align: right;\n",
       "    }\n",
       "</style>\n",
       "<table border=\"1\" class=\"dataframe\">\n",
       "  <thead>\n",
       "    <tr style=\"text-align: right;\">\n",
       "      <th></th>\n",
       "      <th>0</th>\n",
       "      <th>1</th>\n",
       "      <th>3</th>\n",
       "    </tr>\n",
       "    <tr>\n",
       "      <th>2</th>\n",
       "      <th></th>\n",
       "      <th></th>\n",
       "      <th></th>\n",
       "    </tr>\n",
       "  </thead>\n",
       "  <tbody>\n",
       "    <tr>\n",
       "      <th>-1.661930</th>\n",
       "      <td>0.846623</td>\n",
       "      <td>1.117432</td>\n",
       "      <td>-0.204318</td>\n",
       "    </tr>\n",
       "    <tr>\n",
       "      <th>-0.888125</th>\n",
       "      <td>-2.062284</td>\n",
       "      <td>0.924989</td>\n",
       "      <td>-0.452184</td>\n",
       "    </tr>\n",
       "    <tr>\n",
       "      <th>0.097596</th>\n",
       "      <td>0.650077</td>\n",
       "      <td>-0.667178</td>\n",
       "      <td>-0.036788</td>\n",
       "    </tr>\n",
       "    <tr>\n",
       "      <th>0.317618</th>\n",
       "      <td>1.556422</td>\n",
       "      <td>0.133587</td>\n",
       "      <td>-0.945580</td>\n",
       "    </tr>\n",
       "    <tr>\n",
       "      <th>0.321954</th>\n",
       "      <td>0.256295</td>\n",
       "      <td>-1.328828</td>\n",
       "      <td>-0.570677</td>\n",
       "    </tr>\n",
       "    <tr>\n",
       "      <th>0.343992</th>\n",
       "      <td>-1.670019</td>\n",
       "      <td>-1.648424</td>\n",
       "      <td>2.456606</td>\n",
       "    </tr>\n",
       "    <tr>\n",
       "      <th>0.527728</th>\n",
       "      <td>-0.107571</td>\n",
       "      <td>0.661013</td>\n",
       "      <td>0.335126</td>\n",
       "    </tr>\n",
       "    <tr>\n",
       "      <th>0.731265</th>\n",
       "      <td>0.710592</td>\n",
       "      <td>-0.492858</td>\n",
       "      <td>1.128872</td>\n",
       "    </tr>\n",
       "    <tr>\n",
       "      <th>1.020644</th>\n",
       "      <td>0.137472</td>\n",
       "      <td>-2.573622</td>\n",
       "      <td>0.303373</td>\n",
       "    </tr>\n",
       "    <tr>\n",
       "      <th>1.246012</th>\n",
       "      <td>1.157907</td>\n",
       "      <td>-0.372367</td>\n",
       "      <td>1.371064</td>\n",
       "    </tr>\n",
       "  </tbody>\n",
       "</table>\n",
       "</div>"
      ],
      "text/plain": [
       "                  0         1         3\n",
       "2                                      \n",
       "-1.661930  0.846623  1.117432 -0.204318\n",
       "-0.888125 -2.062284  0.924989 -0.452184\n",
       " 0.097596  0.650077 -0.667178 -0.036788\n",
       " 0.317618  1.556422  0.133587 -0.945580\n",
       " 0.321954  0.256295 -1.328828 -0.570677\n",
       " 0.343992 -1.670019 -1.648424  2.456606\n",
       " 0.527728 -0.107571  0.661013  0.335126\n",
       " 0.731265  0.710592 -0.492858  1.128872\n",
       " 1.020644  0.137472 -2.573622  0.303373\n",
       " 1.246012  1.157907 -0.372367  1.371064"
      ]
     },
     "execution_count": 100,
     "metadata": {},
     "output_type": "execute_result"
    }
   ],
   "source": [
    "df.groupby(2).sum()"
   ]
  },
  {
   "cell_type": "code",
   "execution_count": 101,
   "id": "5a302788",
   "metadata": {},
   "outputs": [
    {
     "data": {
      "text/html": [
       "<div>\n",
       "<style scoped>\n",
       "    .dataframe tbody tr th:only-of-type {\n",
       "        vertical-align: middle;\n",
       "    }\n",
       "\n",
       "    .dataframe tbody tr th {\n",
       "        vertical-align: top;\n",
       "    }\n",
       "\n",
       "    .dataframe thead th {\n",
       "        text-align: right;\n",
       "    }\n",
       "</style>\n",
       "<table border=\"1\" class=\"dataframe\">\n",
       "  <thead>\n",
       "    <tr style=\"text-align: right;\">\n",
       "      <th></th>\n",
       "      <th></th>\n",
       "      <th>0</th>\n",
       "      <th>1</th>\n",
       "    </tr>\n",
       "    <tr>\n",
       "      <th>2</th>\n",
       "      <th>3</th>\n",
       "      <th></th>\n",
       "      <th></th>\n",
       "    </tr>\n",
       "  </thead>\n",
       "  <tbody>\n",
       "    <tr>\n",
       "      <th>-1.661930</th>\n",
       "      <th>-0.204318</th>\n",
       "      <td>0.846623</td>\n",
       "      <td>1.117432</td>\n",
       "    </tr>\n",
       "    <tr>\n",
       "      <th>-0.888125</th>\n",
       "      <th>-0.452184</th>\n",
       "      <td>-2.062284</td>\n",
       "      <td>0.924989</td>\n",
       "    </tr>\n",
       "    <tr>\n",
       "      <th>0.097596</th>\n",
       "      <th>-0.036788</th>\n",
       "      <td>0.650077</td>\n",
       "      <td>-0.667178</td>\n",
       "    </tr>\n",
       "    <tr>\n",
       "      <th>0.317618</th>\n",
       "      <th>-0.945580</th>\n",
       "      <td>1.556422</td>\n",
       "      <td>0.133587</td>\n",
       "    </tr>\n",
       "    <tr>\n",
       "      <th>0.321954</th>\n",
       "      <th>-0.570677</th>\n",
       "      <td>0.256295</td>\n",
       "      <td>-1.328828</td>\n",
       "    </tr>\n",
       "    <tr>\n",
       "      <th>0.343992</th>\n",
       "      <th>2.456606</th>\n",
       "      <td>-1.670019</td>\n",
       "      <td>-1.648424</td>\n",
       "    </tr>\n",
       "    <tr>\n",
       "      <th>0.527728</th>\n",
       "      <th>0.335126</th>\n",
       "      <td>-0.107571</td>\n",
       "      <td>0.661013</td>\n",
       "    </tr>\n",
       "    <tr>\n",
       "      <th>0.731265</th>\n",
       "      <th>1.128872</th>\n",
       "      <td>0.710592</td>\n",
       "      <td>-0.492858</td>\n",
       "    </tr>\n",
       "    <tr>\n",
       "      <th>1.020644</th>\n",
       "      <th>0.303373</th>\n",
       "      <td>0.137472</td>\n",
       "      <td>-2.573622</td>\n",
       "    </tr>\n",
       "    <tr>\n",
       "      <th>1.246012</th>\n",
       "      <th>1.371064</th>\n",
       "      <td>1.157907</td>\n",
       "      <td>-0.372367</td>\n",
       "    </tr>\n",
       "  </tbody>\n",
       "</table>\n",
       "</div>"
      ],
      "text/plain": [
       "                            0         1\n",
       "2         3                            \n",
       "-1.661930 -0.204318  0.846623  1.117432\n",
       "-0.888125 -0.452184 -2.062284  0.924989\n",
       " 0.097596 -0.036788  0.650077 -0.667178\n",
       " 0.317618 -0.945580  1.556422  0.133587\n",
       " 0.321954 -0.570677  0.256295 -1.328828\n",
       " 0.343992  2.456606 -1.670019 -1.648424\n",
       " 0.527728  0.335126 -0.107571  0.661013\n",
       " 0.731265  1.128872  0.710592 -0.492858\n",
       " 1.020644  0.303373  0.137472 -2.573622\n",
       " 1.246012  1.371064  1.157907 -0.372367"
      ]
     },
     "execution_count": 101,
     "metadata": {},
     "output_type": "execute_result"
    }
   ],
   "source": [
    "df.groupby([2,3]).sum()"
   ]
  },
  {
   "cell_type": "code",
   "execution_count": 5,
   "id": "d238a1e3",
   "metadata": {},
   "outputs": [],
   "source": [
    "dates = pd.date_range('3/3/2020',periods = 100 ,freq = 'S')"
   ]
  },
  {
   "cell_type": "code",
   "execution_count": 7,
   "id": "762c6d19",
   "metadata": {},
   "outputs": [],
   "source": [
    "ts = pd.Series(np.random.randint(0,500,len(dates)),dates)"
   ]
  },
  {
   "cell_type": "code",
   "execution_count": 8,
   "id": "2c349adb",
   "metadata": {},
   "outputs": [
    {
     "data": {
      "text/plain": [
       "2020-03-03    26537\n",
       "Freq: 5T, dtype: int32"
      ]
     },
     "execution_count": 8,
     "metadata": {},
     "output_type": "execute_result"
    }
   ],
   "source": [
    "ts.resample(\"5min\").sum()"
   ]
  },
  {
   "cell_type": "code",
   "execution_count": 9,
   "id": "5c420e82",
   "metadata": {},
   "outputs": [],
   "source": [
    "dates = pd.date_range('3/3/2020 00:00',periods = 5,freq = 'S')"
   ]
  },
  {
   "cell_type": "code",
   "execution_count": 10,
   "id": "df69459d",
   "metadata": {},
   "outputs": [],
   "source": [
    "ts = pd.Series(np.random.randn(len(dates)),dates)"
   ]
  },
  {
   "cell_type": "code",
   "execution_count": 11,
   "id": "987e1e7d",
   "metadata": {},
   "outputs": [
    {
     "data": {
      "text/plain": [
       "2020-03-03 00:00:00    1.009512\n",
       "2020-03-03 00:00:01    1.301820\n",
       "2020-03-03 00:00:02    0.091063\n",
       "2020-03-03 00:00:03    0.464490\n",
       "2020-03-03 00:00:04    0.156902\n",
       "Freq: S, dtype: float64"
      ]
     },
     "execution_count": 11,
     "metadata": {},
     "output_type": "execute_result"
    }
   ],
   "source": [
    "ts"
   ]
  },
  {
   "cell_type": "code",
   "execution_count": 18,
   "id": "e32c0160",
   "metadata": {},
   "outputs": [],
   "source": [
    "df = pd.DataFrame({\"ID\" : [1,2,3,4,5],\n",
    "                  \"Grade\" : ['a','b','c','c','e']})"
   ]
  },
  {
   "cell_type": "code",
   "execution_count": 19,
   "id": "742a0338",
   "metadata": {},
   "outputs": [
    {
     "data": {
      "text/html": [
       "<div>\n",
       "<style scoped>\n",
       "    .dataframe tbody tr th:only-of-type {\n",
       "        vertical-align: middle;\n",
       "    }\n",
       "\n",
       "    .dataframe tbody tr th {\n",
       "        vertical-align: top;\n",
       "    }\n",
       "\n",
       "    .dataframe thead th {\n",
       "        text-align: right;\n",
       "    }\n",
       "</style>\n",
       "<table border=\"1\" class=\"dataframe\">\n",
       "  <thead>\n",
       "    <tr style=\"text-align: right;\">\n",
       "      <th></th>\n",
       "      <th>ID</th>\n",
       "      <th>Grade</th>\n",
       "    </tr>\n",
       "  </thead>\n",
       "  <tbody>\n",
       "    <tr>\n",
       "      <th>0</th>\n",
       "      <td>1</td>\n",
       "      <td>a</td>\n",
       "    </tr>\n",
       "    <tr>\n",
       "      <th>1</th>\n",
       "      <td>2</td>\n",
       "      <td>b</td>\n",
       "    </tr>\n",
       "    <tr>\n",
       "      <th>2</th>\n",
       "      <td>3</td>\n",
       "      <td>c</td>\n",
       "    </tr>\n",
       "    <tr>\n",
       "      <th>3</th>\n",
       "      <td>4</td>\n",
       "      <td>c</td>\n",
       "    </tr>\n",
       "    <tr>\n",
       "      <th>4</th>\n",
       "      <td>5</td>\n",
       "      <td>e</td>\n",
       "    </tr>\n",
       "  </tbody>\n",
       "</table>\n",
       "</div>"
      ],
      "text/plain": [
       "   ID Grade\n",
       "0   1     a\n",
       "1   2     b\n",
       "2   3     c\n",
       "3   4     c\n",
       "4   5     e"
      ]
     },
     "execution_count": 19,
     "metadata": {},
     "output_type": "execute_result"
    }
   ],
   "source": [
    "df"
   ]
  },
  {
   "cell_type": "code",
   "execution_count": 20,
   "id": "d08e8886",
   "metadata": {},
   "outputs": [],
   "source": [
    "df[\"Grade\"] = df[\"Grade\"].astype(\"category\")"
   ]
  },
  {
   "cell_type": "code",
   "execution_count": 21,
   "id": "15db5d02",
   "metadata": {},
   "outputs": [
    {
     "name": "stderr",
     "output_type": "stream",
     "text": [
      "C:\\Users\\hp\\AppData\\Local\\Temp\\ipykernel_1364\\3481117743.py:1: FutureWarning: Setting categories in-place is deprecated and will raise in a future version. Use rename_categories instead.\n",
      "  df[\"Grade\"].cat.categories = [\"good\",\"very bad\",\"very good\",\"excellent\"]\n"
     ]
    }
   ],
   "source": [
    "df[\"Grade\"].cat.categories = [\"good\",\"very bad\",\"very good\",\"excellent\"]"
   ]
  },
  {
   "cell_type": "code",
   "execution_count": 24,
   "id": "c90e0192",
   "metadata": {},
   "outputs": [],
   "source": [
    "df[\"Grade\"]=df[\"Grade\"].cat.set_categories([\"good\",\"very bad\",\"very good\",\"excellent\",\"medium\"])"
   ]
  },
  {
   "cell_type": "code",
   "execution_count": 25,
   "id": "bc0ff2af",
   "metadata": {},
   "outputs": [
    {
     "data": {
      "text/plain": [
       "0         good\n",
       "1     very bad\n",
       "2    very good\n",
       "3    very good\n",
       "4    excellent\n",
       "Name: Grade, dtype: category\n",
       "Categories (5, object): ['good', 'very bad', 'very good', 'excellent', 'medium']"
      ]
     },
     "execution_count": 25,
     "metadata": {},
     "output_type": "execute_result"
    }
   ],
   "source": [
    "df[\"Grade\"]"
   ]
  },
  {
   "cell_type": "code",
   "execution_count": 26,
   "id": "39fb0ea9",
   "metadata": {},
   "outputs": [],
   "source": [
    "import matplotlib.pyplot as plt"
   ]
  },
  {
   "cell_type": "code",
   "execution_count": 27,
   "id": "c2e4e991",
   "metadata": {},
   "outputs": [],
   "source": [
    "plt.close(\"all\")"
   ]
  },
  {
   "cell_type": "code",
   "execution_count": 28,
   "id": "77c5b449",
   "metadata": {},
   "outputs": [],
   "source": [
    "ts = pd.Series(np.random.randn(500), index = pd.date_range('1/2/2020', periods = 500))"
   ]
  },
  {
   "cell_type": "code",
   "execution_count": 29,
   "id": "c279a644",
   "metadata": {},
   "outputs": [],
   "source": [
    "ts=ts.cumsum()"
   ]
  },
  {
   "cell_type": "code",
   "execution_count": 30,
   "id": "e26088c6",
   "metadata": {},
   "outputs": [
    {
     "data": {
      "text/plain": [
       "[<matplotlib.lines.Line2D at 0x20c0e7afc50>]"
      ]
     },
     "execution_count": 30,
     "metadata": {},
     "output_type": "execute_result"
    },
    {
     "data": {
      "image/png": "[encoded data removed]",
      "text/plain": [
       "<Figure size 640x480 with 1 Axes>"
      ]
     },
     "metadata": {},
     "output_type": "display_data"
    }
   ],
   "source": [
    "plt.plot(tplts)"
   ]
  },
  {
   "cell_type": "code",
   "execution_count": null,
   "id": "2ad13d5f",
   "metadata": {},
   "outputs": [],
   "source": [
    "plt\n"
   ]
  }
 ],
 "metadata": {
  "kernelspec": {
   "display_name": "Python 3 (ipykernel)",
   "language": "python",
   "name": "python3"
  },
  "language_info": {
   "codemirror_mode": {
    "name": "ipython",
    "version": 3
   },
   "file_extension": ".py",
   "mimetype": "text/x-python",
   "name": "python",
   "nbconvert_exporter": "python",
   "pygments_lexer": "ipython3",
   "version": "3.11.2"
  }
 },
 "nbformat": 4,
 "nbformat_minor": 5
}
