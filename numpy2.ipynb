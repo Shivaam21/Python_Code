{
 "cells": [
  {
   "cell_type": "code",
   "execution_count": 1,
   "id": "621e8830",
   "metadata": {},
   "outputs": [],
   "source": [
    "import numpy as np"
   ]
  },
  {
   "cell_type": "code",
   "execution_count": 2,
   "id": "c50436f6",
   "metadata": {},
   "outputs": [],
   "source": [
    "oned=np.array([2,4,6,8])\n",
    "twod=np.array([[3,6,9,12],\n",
    "               [4,8,12,16]])"
   ]
  },
  {
   "cell_type": "code",
   "execution_count": 3,
   "id": "ad523054",
   "metadata": {},
   "outputs": [
    {
     "data": {
      "text/plain": [
       "array([2, 4, 6, 8])"
      ]
     },
     "execution_count": 3,
     "metadata": {},
     "output_type": "execute_result"
    }
   ],
   "source": [
    "oned"
   ]
  },
  {
   "cell_type": "code",
   "execution_count": 4,
   "id": "c19b9866",
   "metadata": {},
   "outputs": [
    {
     "data": {
      "text/plain": [
       "array([[ 3,  6,  9, 12],\n",
       "       [ 4,  8, 12, 16]])"
      ]
     },
     "execution_count": 4,
     "metadata": {},
     "output_type": "execute_result"
    }
   ],
   "source": [
    "twod"
   ]
  },
  {
   "cell_type": "code",
   "execution_count": 6,
   "id": "83f15594",
   "metadata": {},
   "outputs": [
    {
     "data": {
      "text/plain": [
       "1"
      ]
     },
     "execution_count": 6,
     "metadata": {},
     "output_type": "execute_result"
    }
   ],
   "source": [
    "oned.ndim"
   ]
  },
  {
   "cell_type": "code",
   "execution_count": 7,
   "id": "cdf6c0cf",
   "metadata": {},
   "outputs": [
    {
     "data": {
      "text/plain": [
       "2"
      ]
     },
     "execution_count": 7,
     "metadata": {},
     "output_type": "execute_result"
    }
   ],
   "source": [
    "twod.ndim"
   ]
  },
  {
   "cell_type": "code",
   "execution_count": 8,
   "id": "cc63a305",
   "metadata": {},
   "outputs": [
    {
     "data": {
      "text/plain": [
       "2"
      ]
     },
     "execution_count": 8,
     "metadata": {},
     "output_type": "execute_result"
    }
   ],
   "source": [
    "oned[0]"
   ]
  },
  {
   "cell_type": "code",
   "execution_count": 10,
   "id": "a2155228",
   "metadata": {},
   "outputs": [
    {
     "data": {
      "text/plain": [
       "6"
      ]
     },
     "execution_count": 10,
     "metadata": {},
     "output_type": "execute_result"
    }
   ],
   "source": [
    "oned[2]"
   ]
  },
  {
   "cell_type": "code",
   "execution_count": 11,
   "id": "406286c9",
   "metadata": {},
   "outputs": [
    {
     "data": {
      "text/plain": [
       "6"
      ]
     },
     "execution_count": 11,
     "metadata": {},
     "output_type": "execute_result"
    }
   ],
   "source": [
    "twod[0,1]"
   ]
  },
  {
   "cell_type": "code",
   "execution_count": 12,
   "id": "f8baff61",
   "metadata": {},
   "outputs": [
    {
     "data": {
      "text/plain": [
       "16"
      ]
     },
     "execution_count": 12,
     "metadata": {},
     "output_type": "execute_result"
    }
   ],
   "source": [
    "twod[1,3]"
   ]
  },
  {
   "cell_type": "code",
   "execution_count": 13,
   "id": "728e7c73",
   "metadata": {},
   "outputs": [
    {
     "name": "stdout",
     "output_type": "stream",
     "text": [
      "[2 4 6 8]\n"
     ]
    }
   ],
   "source": [
    "print(oned)"
   ]
  },
  {
   "cell_type": "code",
   "execution_count": 14,
   "id": "6c223e8a",
   "metadata": {},
   "outputs": [
    {
     "name": "stdout",
     "output_type": "stream",
     "text": [
      "[[ 3  6  9 12]\n",
      " [ 4  8 12 16]]\n"
     ]
    }
   ],
   "source": [
    "\n",
    "print(twod)"
   ]
  },
  {
   "cell_type": "code",
   "execution_count": 15,
   "id": "3abeba66",
   "metadata": {},
   "outputs": [
    {
     "data": {
      "text/plain": [
       "array([4, 6, 8])"
      ]
     },
     "execution_count": 15,
     "metadata": {},
     "output_type": "execute_result"
    }
   ],
   "source": [
    "oned[1:]"
   ]
  },
  {
   "cell_type": "code",
   "execution_count": 16,
   "id": "ad415e7f",
   "metadata": {},
   "outputs": [
    {
     "name": "stdout",
     "output_type": "stream",
     "text": [
      "2\n",
      "4\n",
      "6\n",
      "8\n"
     ]
    }
   ],
   "source": [
    "for a in oned:\n",
    "    print(a)"
   ]
  },
  {
   "cell_type": "code",
   "execution_count": 18,
   "id": "8bed594f",
   "metadata": {},
   "outputs": [
    {
     "name": "stdout",
     "output_type": "stream",
     "text": [
      "2\n",
      "4\n",
      "6\n",
      "8\n"
     ]
    }
   ],
   "source": [
    "for a in oned:\n",
    "    if a%2==0:\n",
    "        print(a)\n",
    "    else:\n",
    "        print(\"Hi\")\n"
   ]
  },
  {
   "cell_type": "code",
   "execution_count": 19,
   "id": "7ef72549",
   "metadata": {},
   "outputs": [
    {
     "data": {
      "text/plain": [
       "array([ 8, 12, 16])"
      ]
     },
     "execution_count": 19,
     "metadata": {},
     "output_type": "execute_result"
    }
   ],
   "source": [
    "twod[1,1:]"
   ]
  },
  {
   "cell_type": "code",
   "execution_count": 20,
   "id": "cbca8df3",
   "metadata": {},
   "outputs": [
    {
     "data": {
      "text/plain": [
       "array([8])"
      ]
     },
     "execution_count": 20,
     "metadata": {},
     "output_type": "execute_result"
    }
   ],
   "source": [
    "twod[1:,1]"
   ]
  },
  {
   "cell_type": "code",
   "execution_count": 21,
   "id": "4a14b3ed",
   "metadata": {},
   "outputs": [
    {
     "name": "stdout",
     "output_type": "stream",
     "text": [
      "[15 30 45 60]\n",
      "[20 40 60 80]\n"
     ]
    }
   ],
   "source": [
    "for a in twod:\n",
    "    print(a*5)"
   ]
  },
  {
   "cell_type": "code",
   "execution_count": null,
   "id": "6f408565",
   "metadata": {},
   "outputs": [],
   "source": []
  }
 ],
 "metadata": {
  "kernelspec": {
   "display_name": "Python 3 (ipykernel)",
   "language": "python",
   "name": "python3"
  },
  "language_info": {
   "codemirror_mode": {
    "name": "ipython",
    "version": 3
   },
   "file_extension": ".py",
   "mimetype": "text/x-python",
   "name": "python",
   "nbconvert_exporter": "python",
   "pygments_lexer": "ipython3",
   "version": "3.11.2"
  }
 },
 "nbformat": 4,
 "nbformat_minor": 5
}
